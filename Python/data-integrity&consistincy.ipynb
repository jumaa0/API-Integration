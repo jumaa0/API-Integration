{
 "cells": [
  {
   "cell_type": "markdown",
   "id": "75a67324-0c2c-488e-87ed-a505467fd192",
   "metadata": {},
   "source": [
    "<font size=\"+3\"><strong> Getting data from APIs</strong></font>"
   ]
  },
  {
   "cell_type": "code",
   "execution_count": 39,
   "id": "50094002-c139-404b-9928-487795208111",
   "metadata": {},
   "outputs": [
    {
     "name": "stdout",
     "output_type": "stream",
     "text": [
      "The autoreload extension is already loaded. To reload it, use:\n",
      "  %reload_ext autoreload\n",
      "The sql extension is already loaded. To reload it, use:\n",
      "  %reload_ext sql\n"
     ]
    }
   ],
   "source": [
    "%load_ext autoreload\n",
    "%load_ext sql\n",
    "%autoreload 2\n",
    "\n",
    "import sqlite3\n",
    "\n",
    "\n",
    "from config import settings\n",
    "import matplotlib.pyplot as plt\n",
    "import pandas as pd\n",
    "import requests\n",
    "\n"
   ]
  },
  {
   "cell_type": "markdown",
   "id": "dcd79260-4481-4e43-afcd-c11ccdf1ff25",
   "metadata": {},
   "source": [
    "# Accessing APIs Through a URL"
   ]
  },
  {
   "cell_type": "markdown",
   "id": "34327420-f7ae-488f-9726-bda5116cacf7",
   "metadata": {},
   "source": [
    "Extracting stock market information from the [AlphaVantage](https://alphavantage.co/) API. To get a sense of how an API works."
   ]
  },
  {
   "cell_type": "code",
   "execution_count": 40,
   "id": "5bb7acb1-922f-4216-83ed-f9a280abc5b2",
   "metadata": {},
   "outputs": [
    {
     "name": "stdout",
     "output_type": "stream",
     "text": [
      "url type: <class 'str'>\n"
     ]
    },
    {
     "data": {
      "text/plain": [
       "'https://www.alphavantage.co/query?function=TIME_SERIES_DAILY&symbol=IBM&apikey=demo'"
      ]
     },
     "execution_count": 40,
     "metadata": {},
     "output_type": "execute_result"
    }
   ],
   "source": [
    "url = (\n",
    "    \"https://www.alphavantage.co/query?\"\n",
    "    \"function=TIME_SERIES_DAILY&\"\n",
    "    \"symbol=IBM&\"\n",
    "    \"apikey=demo\"\n",
    ")\n",
    "\n",
    "print(\"url type:\", type(url))\n",
    "url"
   ]
  },
  {
   "cell_type": "code",
   "execution_count": 41,
   "id": "0283ebe8-679b-4126-923a-f8bc574c1b9e",
   "metadata": {},
   "outputs": [
    {
     "data": {
      "text/plain": [
       "['Config',\n",
       " '__abstractmethods__',\n",
       " '__annotations__',\n",
       " '__class__',\n",
       " '__class_vars__',\n",
       " '__config__',\n",
       " '__custom_root_type__',\n",
       " '__delattr__',\n",
       " '__dict__',\n",
       " '__dir__',\n",
       " '__doc__',\n",
       " '__eq__',\n",
       " '__exclude_fields__',\n",
       " '__fields__',\n",
       " '__fields_set__',\n",
       " '__format__',\n",
       " '__ge__',\n",
       " '__get_validators__',\n",
       " '__getattribute__',\n",
       " '__getstate__',\n",
       " '__gt__',\n",
       " '__hash__',\n",
       " '__include_fields__',\n",
       " '__init__',\n",
       " '__init_subclass__',\n",
       " '__iter__',\n",
       " '__json_encoder__',\n",
       " '__le__',\n",
       " '__lt__',\n",
       " '__module__',\n",
       " '__ne__',\n",
       " '__new__',\n",
       " '__post_root_validators__',\n",
       " '__pre_root_validators__',\n",
       " '__pretty__',\n",
       " '__private_attributes__',\n",
       " '__reduce__',\n",
       " '__reduce_ex__',\n",
       " '__repr__',\n",
       " '__repr_args__',\n",
       " '__repr_name__',\n",
       " '__repr_str__',\n",
       " '__rich_repr__',\n",
       " '__schema_cache__',\n",
       " '__setattr__',\n",
       " '__setstate__',\n",
       " '__signature__',\n",
       " '__sizeof__',\n",
       " '__slots__',\n",
       " '__str__',\n",
       " '__subclasshook__',\n",
       " '__try_update_forward_refs__',\n",
       " '__validators__',\n",
       " '_abc_impl',\n",
       " '_build_values',\n",
       " '_calculate_keys',\n",
       " '_copy_and_set_values',\n",
       " '_decompose_class',\n",
       " '_enforce_dict_if_root',\n",
       " '_get_value',\n",
       " '_init_private_attributes',\n",
       " '_iter',\n",
       " 'alpha_api_key',\n",
       " 'construct',\n",
       " 'copy',\n",
       " 'db_name',\n",
       " 'dict',\n",
       " 'from_orm',\n",
       " 'json',\n",
       " 'model_directory',\n",
       " 'parse_file',\n",
       " 'parse_obj',\n",
       " 'parse_raw',\n",
       " 'schema',\n",
       " 'schema_json',\n",
       " 'update_forward_refs',\n",
       " 'validate']"
      ]
     },
     "execution_count": 41,
     "metadata": {},
     "output_type": "execute_result"
    }
   ],
   "source": [
    "# Import settings\n",
    "from config import settings\n",
    "\n",
    "# Use `dir` to list attributes\n",
    "dir(settings)"
   ]
  },
  {
   "cell_type": "code",
   "execution_count": 42,
   "id": "bb19f887-2526-46ba-8735-479eab1a5650",
   "metadata": {},
   "outputs": [
    {
     "name": "stdout",
     "output_type": "stream",
     "text": [
      "url type: <class 'str'>\n"
     ]
    },
    {
     "data": {
      "text/plain": [
       "'https://learn-api.wqu.edu/1/data-services/alpha-vantage/query?function=TIME_SERIES_DAILY&symbol=AMBUJACEM.BSE&outputsize=compact&datatype=json&apikey=5cf0f182131a90427441c2d78fb4f2d8de12e4ed81135c04e53fe97fada1a20405df3c69168cc4b7dfdcb473ed37560c7f2d114cb758a69e0f048213cb95851536d508d277704db76b2f3f5fa7d4cf87b295d70cff2b75d260da23160010e208841258fb8a89392a6ec5acaed9ff4c300b35ccb4135ae5ac909f8648f025843a'"
      ]
     },
     "execution_count": 42,
     "metadata": {},
     "output_type": "execute_result"
    }
   ],
   "source": [
    "ticker = \"AMBUJACEM.BSE\"\n",
    "output_size = \"compact\"\n",
    "data_type = \"json\"\n",
    "\n",
    "url = (\n",
    "    \"https://learn-api.wqu.edu/1/data-services/alpha-vantage/query?\"\n",
    "    \"function=TIME_SERIES_DAILY&\"\n",
    "    f\"symbol={ticker}&\"\n",
    "    f\"outputsize={output_size}&\"\n",
    "    f\"datatype={data_type}&\"\n",
    "    f\"apikey={settings.alpha_api_key}\"\n",
    ")\n",
    "\n",
    "print(\"url type:\", type(url))\n",
    "url"
   ]
  },
  {
   "cell_type": "markdown",
   "id": "254219df-701b-41e2-84b4-7a114d444a94",
   "metadata": {},
   "source": [
    "# Accessing APIs Through a Request"
   ]
  },
  {
   "cell_type": "markdown",
   "id": "b20ae982-94ce-443b-8dcf-1305209e833a",
   "metadata": {},
   "source": [
    "We've seen how to access the AlphaVantage API by clicking on a URL, but this won't work for the application we're building in this project because only humans click URLs. Computer programs access APIs by making **requests**. Let's build our first request using the URL we created in the previous task. "
   ]
  },
  {
   "cell_type": "code",
   "execution_count": 43,
   "id": "0d656d9b-963c-430f-b080-de8f86401b52",
   "metadata": {},
   "outputs": [
    {
     "name": "stdout",
     "output_type": "stream",
     "text": [
      "response type: <class 'requests.models.Response'>\n"
     ]
    }
   ],
   "source": [
    "response = requests.get(url=url)\n",
    "\n",
    "print(\"response type:\", type(response))"
   ]
  },
  {
   "cell_type": "code",
   "execution_count": 44,
   "id": "7e5a89a0-ce4c-4fc4-81d5-4430767a0a5b",
   "metadata": {},
   "outputs": [
    {
     "data": {
      "text/plain": [
       "['__attrs__',\n",
       " '__bool__',\n",
       " '__class__',\n",
       " '__delattr__',\n",
       " '__dict__',\n",
       " '__dir__',\n",
       " '__doc__',\n",
       " '__enter__',\n",
       " '__eq__',\n",
       " '__exit__',\n",
       " '__format__',\n",
       " '__ge__',\n",
       " '__getattribute__',\n",
       " '__getstate__',\n",
       " '__gt__',\n",
       " '__hash__',\n",
       " '__init__',\n",
       " '__init_subclass__',\n",
       " '__iter__',\n",
       " '__le__',\n",
       " '__lt__',\n",
       " '__module__',\n",
       " '__ne__',\n",
       " '__new__',\n",
       " '__nonzero__',\n",
       " '__reduce__',\n",
       " '__reduce_ex__',\n",
       " '__repr__',\n",
       " '__setattr__',\n",
       " '__setstate__',\n",
       " '__sizeof__',\n",
       " '__str__',\n",
       " '__subclasshook__',\n",
       " '__weakref__',\n",
       " '_content',\n",
       " '_content_consumed',\n",
       " '_next',\n",
       " 'apparent_encoding',\n",
       " 'close',\n",
       " 'connection',\n",
       " 'content',\n",
       " 'cookies',\n",
       " 'elapsed',\n",
       " 'encoding',\n",
       " 'headers',\n",
       " 'history',\n",
       " 'is_permanent_redirect',\n",
       " 'is_redirect',\n",
       " 'iter_content',\n",
       " 'iter_lines',\n",
       " 'json',\n",
       " 'links',\n",
       " 'next',\n",
       " 'ok',\n",
       " 'raise_for_status',\n",
       " 'raw',\n",
       " 'reason',\n",
       " 'request',\n",
       " 'status_code',\n",
       " 'text',\n",
       " 'url']"
      ]
     },
     "execution_count": 44,
     "metadata": {},
     "output_type": "execute_result"
    }
   ],
   "source": [
    "# Use `dir` on your `response`\n",
    "dir(response)\n"
   ]
  },
  {
   "cell_type": "code",
   "execution_count": 45,
   "id": "ed0d79da-83e0-415c-ad8a-9708ad7b8d5d",
   "metadata": {},
   "outputs": [
    {
     "name": "stdout",
     "output_type": "stream",
     "text": [
      "code type: <class 'int'>\n"
     ]
    },
    {
     "data": {
      "text/plain": [
       "200"
      ]
     },
     "execution_count": 45,
     "metadata": {},
     "output_type": "execute_result"
    }
   ],
   "source": [
    "response_code = response.status_code\n",
    "\n",
    "print(\"code type:\", type(response_code))\n",
    "response_code\n"
   ]
  },
  {
   "cell_type": "markdown",
   "id": "c4724bf1-ffda-473b-92e9-9b64548bd9b5",
   "metadata": {},
   "source": [
    "Translated to English, `200` means \"OK\". It's the standard response for a successful HTTP request. In other words, it worked! We successfully received data back from the AlphaVantage API. \n",
    "\n",
    "Now let's take a look at the `text`."
   ]
  },
  {
   "cell_type": "code",
   "execution_count": 46,
   "id": "6b9466bb-2241-45f7-9a3d-6e8ac3011516",
   "metadata": {},
   "outputs": [
    {
     "name": "stdout",
     "output_type": "stream",
     "text": [
      "response_text type: <class 'str'>\n",
      "{\n",
      "    \"Meta Data\": {\n",
      "        \"1. Information\": \"Daily Prices (open, high, low, close) and Volumes\",\n",
      "        \"2. Symbol\": \"AMBUJACEM.BSE\",\n",
      "        \"3. Last Refreshed\": \"2024-03-14\",\n",
      "        \"4. Output \n"
     ]
    }
   ],
   "source": [
    "response_text = response.text\n",
    "\n",
    "print(\"response_text type:\", type(response_text))\n",
    "print(response_text[:200])"
   ]
  },
  {
   "cell_type": "markdown",
   "id": "d6e4765c-a452-4588-afe8-dd8ca30868d6",
   "metadata": {},
   "source": [
    "This string looks like the data we previously saw in our browser when we clicked on the URL in <a href=\"#task-815\">Task 8.1.5</a>. But we can't work with data structured as JSON when it's a string. Instead, we need it in a dictionary."
   ]
  },
  {
   "cell_type": "code",
   "execution_count": 47,
   "id": "2c370a37-09d5-4fa7-b202-2dbcb551dfd3",
   "metadata": {},
   "outputs": [
    {
     "name": "stdout",
     "output_type": "stream",
     "text": [
      "response_data type: <class 'dict'>\n"
     ]
    }
   ],
   "source": [
    "response_data = response.json()\n",
    "\n",
    "print(\"response_data type:\", type(response_data))"
   ]
  },
  {
   "cell_type": "markdown",
   "id": "85f9e08a-2c9d-490c-ba5c-c485ef2dd2fd",
   "metadata": {},
   "source": [
    "Let's check to make sure that the data is structured in the same way we saw in our browser."
   ]
  },
  {
   "cell_type": "code",
   "execution_count": 48,
   "id": "98d485fc-c8bb-4cc0-a972-12111a00b365",
   "metadata": {},
   "outputs": [
    {
     "data": {
      "text/plain": [
       "['Meta Data', 'Time Series (Daily)']"
      ]
     },
     "execution_count": 48,
     "metadata": {},
     "output_type": "execute_result"
    }
   ],
   "source": [
    "# Print `response_data` keys\n",
    "list(response_data.keys())\n"
   ]
  },
  {
   "cell_type": "markdown",
   "id": "69569a33-5155-401d-9009-453d6cae4354",
   "metadata": {},
   "source": [
    "Now let's look at data that's assigned to the `\"Time Series (Daily)\"` key."
   ]
  },
  {
   "cell_type": "code",
   "execution_count": 49,
   "id": "b19937f3-3744-4770-bbb5-d5017ca94b6d",
   "metadata": {},
   "outputs": [
    {
     "name": "stdout",
     "output_type": "stream",
     "text": [
      "stock_data type: <class 'dict'>\n"
     ]
    },
    {
     "data": {
      "text/plain": [
       "{'1. open': '552.6500',\n",
       " '2. high': '584.8000',\n",
       " '3. low': '551.5000',\n",
       " '4. close': '582.4000',\n",
       " '5. volume': '119571'}"
      ]
     },
     "execution_count": 49,
     "metadata": {},
     "output_type": "execute_result"
    }
   ],
   "source": [
    "# Extract `\"Time Series (Daily)\"` value from `response_data`\n",
    "stock_data = response_data[\"Time Series (Daily)\"]\n",
    "\n",
    "print(\"stock_data type:\", type(stock_data))\n",
    "\n",
    "# Extract data for one of the days in `stock_data`\n",
    "\n",
    "stock_data[\"2024-03-14\"]"
   ]
  },
  {
   "cell_type": "markdown",
   "id": "9d584328-bcca-4062-9428-267648bfe96b",
   "metadata": {},
   "source": [
    "Now that we know how the data is organized when we extract it from the API, let's transform it into a DataFrame to make it more manageable."
   ]
  },
  {
   "cell_type": "code",
   "execution_count": 50,
   "id": "d7e77d50-3d2a-44f9-bcf7-d5192b32eb2a",
   "metadata": {},
   "outputs": [
    {
     "name": "stdout",
     "output_type": "stream",
     "text": [
      "df_ambuja shape: (100, 5)\n",
      "\n",
      "<class 'pandas.core.frame.DataFrame'>\n",
      "Index: 100 entries, 2024-03-14 to 2023-10-20\n",
      "Data columns (total 5 columns):\n",
      " #   Column     Non-Null Count  Dtype  \n",
      "---  ------     --------------  -----  \n",
      " 0   1. open    100 non-null    float64\n",
      " 1   2. high    100 non-null    float64\n",
      " 2   3. low     100 non-null    float64\n",
      " 3   4. close   100 non-null    float64\n",
      " 4   5. volume  100 non-null    float64\n",
      "dtypes: float64(5)\n",
      "memory usage: 4.7+ KB\n",
      "None\n"
     ]
    },
    {
     "data": {
      "text/html": [
       "<div>\n",
       "<style scoped>\n",
       "    .dataframe tbody tr th:only-of-type {\n",
       "        vertical-align: middle;\n",
       "    }\n",
       "\n",
       "    .dataframe tbody tr th {\n",
       "        vertical-align: top;\n",
       "    }\n",
       "\n",
       "    .dataframe thead th {\n",
       "        text-align: right;\n",
       "    }\n",
       "</style>\n",
       "<table border=\"1\" class=\"dataframe\">\n",
       "  <thead>\n",
       "    <tr style=\"text-align: right;\">\n",
       "      <th></th>\n",
       "      <th>1. open</th>\n",
       "      <th>2. high</th>\n",
       "      <th>3. low</th>\n",
       "      <th>4. close</th>\n",
       "      <th>5. volume</th>\n",
       "    </tr>\n",
       "  </thead>\n",
       "  <tbody>\n",
       "    <tr>\n",
       "      <th>2024-03-14</th>\n",
       "      <td>552.65</td>\n",
       "      <td>584.80</td>\n",
       "      <td>551.50</td>\n",
       "      <td>582.40</td>\n",
       "      <td>119571.0</td>\n",
       "    </tr>\n",
       "    <tr>\n",
       "      <th>2024-03-13</th>\n",
       "      <td>587.15</td>\n",
       "      <td>590.50</td>\n",
       "      <td>551.05</td>\n",
       "      <td>559.80</td>\n",
       "      <td>148915.0</td>\n",
       "    </tr>\n",
       "    <tr>\n",
       "      <th>2024-03-12</th>\n",
       "      <td>603.45</td>\n",
       "      <td>605.10</td>\n",
       "      <td>584.00</td>\n",
       "      <td>586.65</td>\n",
       "      <td>111313.0</td>\n",
       "    </tr>\n",
       "    <tr>\n",
       "      <th>2024-03-11</th>\n",
       "      <td>603.75</td>\n",
       "      <td>612.50</td>\n",
       "      <td>600.05</td>\n",
       "      <td>602.20</td>\n",
       "      <td>149751.0</td>\n",
       "    </tr>\n",
       "    <tr>\n",
       "      <th>2024-03-07</th>\n",
       "      <td>598.00</td>\n",
       "      <td>606.50</td>\n",
       "      <td>596.80</td>\n",
       "      <td>603.30</td>\n",
       "      <td>56532.0</td>\n",
       "    </tr>\n",
       "    <tr>\n",
       "      <th>2024-03-06</th>\n",
       "      <td>612.15</td>\n",
       "      <td>613.20</td>\n",
       "      <td>595.75</td>\n",
       "      <td>598.00</td>\n",
       "      <td>161124.0</td>\n",
       "    </tr>\n",
       "    <tr>\n",
       "      <th>2024-03-05</th>\n",
       "      <td>621.60</td>\n",
       "      <td>624.55</td>\n",
       "      <td>611.00</td>\n",
       "      <td>613.20</td>\n",
       "      <td>117328.0</td>\n",
       "    </tr>\n",
       "    <tr>\n",
       "      <th>2024-03-04</th>\n",
       "      <td>619.55</td>\n",
       "      <td>621.15</td>\n",
       "      <td>612.50</td>\n",
       "      <td>617.20</td>\n",
       "      <td>124240.0</td>\n",
       "    </tr>\n",
       "    <tr>\n",
       "      <th>2024-03-01</th>\n",
       "      <td>609.85</td>\n",
       "      <td>620.25</td>\n",
       "      <td>607.00</td>\n",
       "      <td>617.60</td>\n",
       "      <td>210504.0</td>\n",
       "    </tr>\n",
       "    <tr>\n",
       "      <th>2024-02-29</th>\n",
       "      <td>589.00</td>\n",
       "      <td>609.00</td>\n",
       "      <td>583.50</td>\n",
       "      <td>606.55</td>\n",
       "      <td>172964.0</td>\n",
       "    </tr>\n",
       "  </tbody>\n",
       "</table>\n",
       "</div>"
      ],
      "text/plain": [
       "            1. open  2. high  3. low  4. close  5. volume\n",
       "2024-03-14   552.65   584.80  551.50    582.40   119571.0\n",
       "2024-03-13   587.15   590.50  551.05    559.80   148915.0\n",
       "2024-03-12   603.45   605.10  584.00    586.65   111313.0\n",
       "2024-03-11   603.75   612.50  600.05    602.20   149751.0\n",
       "2024-03-07   598.00   606.50  596.80    603.30    56532.0\n",
       "2024-03-06   612.15   613.20  595.75    598.00   161124.0\n",
       "2024-03-05   621.60   624.55  611.00    613.20   117328.0\n",
       "2024-03-04   619.55   621.15  612.50    617.20   124240.0\n",
       "2024-03-01   609.85   620.25  607.00    617.60   210504.0\n",
       "2024-02-29   589.00   609.00  583.50    606.55   172964.0"
      ]
     },
     "execution_count": 50,
     "metadata": {},
     "output_type": "execute_result"
    }
   ],
   "source": [
    "df_ambuja = pd.DataFrame().from_dict(stock_data , orient=\"index\" , dtype=float)\n",
    "\n",
    "print(\"df_ambuja shape:\", df_ambuja.shape)\n",
    "print()\n",
    "print(df_ambuja.info())\n",
    "df_ambuja.head(10)"
   ]
  },
  {
   "cell_type": "markdown",
   "id": "59dd289f-e956-49e2-a7e5-135648c9db26",
   "metadata": {},
   "source": [
    "All in all, this looks pretty good, but there are a couple of problems: the data type of the dates, and the format of the headers. Let's fix the dates first. Right now, the dates are strings; in order to make the rest of our code work, we'll need to create a proper `DatetimeIndex`. "
   ]
  },
  {
   "cell_type": "code",
   "execution_count": 51,
   "id": "3fad3bf3-bc99-4c13-ad61-24011c8fc2c7",
   "metadata": {},
   "outputs": [
    {
     "name": "stdout",
     "output_type": "stream",
     "text": [
      "<class 'pandas.core.frame.DataFrame'>\n",
      "DatetimeIndex: 100 entries, 2024-03-14 to 2023-10-20\n",
      "Data columns (total 5 columns):\n",
      " #   Column     Non-Null Count  Dtype  \n",
      "---  ------     --------------  -----  \n",
      " 0   1. open    100 non-null    float64\n",
      " 1   2. high    100 non-null    float64\n",
      " 2   3. low     100 non-null    float64\n",
      " 3   4. close   100 non-null    float64\n",
      " 4   5. volume  100 non-null    float64\n",
      "dtypes: float64(5)\n",
      "memory usage: 4.7 KB\n",
      "None\n"
     ]
    },
    {
     "data": {
      "text/html": [
       "<div>\n",
       "<style scoped>\n",
       "    .dataframe tbody tr th:only-of-type {\n",
       "        vertical-align: middle;\n",
       "    }\n",
       "\n",
       "    .dataframe tbody tr th {\n",
       "        vertical-align: top;\n",
       "    }\n",
       "\n",
       "    .dataframe thead th {\n",
       "        text-align: right;\n",
       "    }\n",
       "</style>\n",
       "<table border=\"1\" class=\"dataframe\">\n",
       "  <thead>\n",
       "    <tr style=\"text-align: right;\">\n",
       "      <th></th>\n",
       "      <th>1. open</th>\n",
       "      <th>2. high</th>\n",
       "      <th>3. low</th>\n",
       "      <th>4. close</th>\n",
       "      <th>5. volume</th>\n",
       "    </tr>\n",
       "    <tr>\n",
       "      <th>date</th>\n",
       "      <th></th>\n",
       "      <th></th>\n",
       "      <th></th>\n",
       "      <th></th>\n",
       "      <th></th>\n",
       "    </tr>\n",
       "  </thead>\n",
       "  <tbody>\n",
       "    <tr>\n",
       "      <th>2024-03-14</th>\n",
       "      <td>552.65</td>\n",
       "      <td>584.8</td>\n",
       "      <td>551.50</td>\n",
       "      <td>582.40</td>\n",
       "      <td>119571.0</td>\n",
       "    </tr>\n",
       "    <tr>\n",
       "      <th>2024-03-13</th>\n",
       "      <td>587.15</td>\n",
       "      <td>590.5</td>\n",
       "      <td>551.05</td>\n",
       "      <td>559.80</td>\n",
       "      <td>148915.0</td>\n",
       "    </tr>\n",
       "    <tr>\n",
       "      <th>2024-03-12</th>\n",
       "      <td>603.45</td>\n",
       "      <td>605.1</td>\n",
       "      <td>584.00</td>\n",
       "      <td>586.65</td>\n",
       "      <td>111313.0</td>\n",
       "    </tr>\n",
       "    <tr>\n",
       "      <th>2024-03-11</th>\n",
       "      <td>603.75</td>\n",
       "      <td>612.5</td>\n",
       "      <td>600.05</td>\n",
       "      <td>602.20</td>\n",
       "      <td>149751.0</td>\n",
       "    </tr>\n",
       "    <tr>\n",
       "      <th>2024-03-07</th>\n",
       "      <td>598.00</td>\n",
       "      <td>606.5</td>\n",
       "      <td>596.80</td>\n",
       "      <td>603.30</td>\n",
       "      <td>56532.0</td>\n",
       "    </tr>\n",
       "  </tbody>\n",
       "</table>\n",
       "</div>"
      ],
      "text/plain": [
       "            1. open  2. high  3. low  4. close  5. volume\n",
       "date                                                     \n",
       "2024-03-14   552.65    584.8  551.50    582.40   119571.0\n",
       "2024-03-13   587.15    590.5  551.05    559.80   148915.0\n",
       "2024-03-12   603.45    605.1  584.00    586.65   111313.0\n",
       "2024-03-11   603.75    612.5  600.05    602.20   149751.0\n",
       "2024-03-07   598.00    606.5  596.80    603.30    56532.0"
      ]
     },
     "execution_count": 51,
     "metadata": {},
     "output_type": "execute_result"
    }
   ],
   "source": [
    "# Convert `df_ambuja` index to `DatetimeIndex`\n",
    "df_ambuja.index = pd.to_datetime(df_ambuja.index)\n",
    "\n",
    "# Name index \"date\"\n",
    "df_ambuja.index.name = \"date\"\n",
    "\n",
    "print(df_ambuja.info())\n",
    "df_ambuja.head()"
   ]
  },
  {
   "cell_type": "code",
   "execution_count": 52,
   "id": "1b08387f-cbba-4ae7-8ff3-3f62ca0c1db5",
   "metadata": {},
   "outputs": [
    {
     "name": "stdout",
     "output_type": "stream",
     "text": [
      "<class 'pandas.core.frame.DataFrame'>\n",
      "DatetimeIndex: 100 entries, 2024-03-14 to 2023-10-20\n",
      "Data columns (total 5 columns):\n",
      " #   Column  Non-Null Count  Dtype  \n",
      "---  ------  --------------  -----  \n",
      " 0   open    100 non-null    float64\n",
      " 1   high    100 non-null    float64\n",
      " 2   low     100 non-null    float64\n",
      " 3   close   100 non-null    float64\n",
      " 4   volume  100 non-null    float64\n",
      "dtypes: float64(5)\n",
      "memory usage: 4.7 KB\n",
      "None\n"
     ]
    },
    {
     "data": {
      "text/html": [
       "<div>\n",
       "<style scoped>\n",
       "    .dataframe tbody tr th:only-of-type {\n",
       "        vertical-align: middle;\n",
       "    }\n",
       "\n",
       "    .dataframe tbody tr th {\n",
       "        vertical-align: top;\n",
       "    }\n",
       "\n",
       "    .dataframe thead th {\n",
       "        text-align: right;\n",
       "    }\n",
       "</style>\n",
       "<table border=\"1\" class=\"dataframe\">\n",
       "  <thead>\n",
       "    <tr style=\"text-align: right;\">\n",
       "      <th></th>\n",
       "      <th>open</th>\n",
       "      <th>high</th>\n",
       "      <th>low</th>\n",
       "      <th>close</th>\n",
       "      <th>volume</th>\n",
       "    </tr>\n",
       "    <tr>\n",
       "      <th>date</th>\n",
       "      <th></th>\n",
       "      <th></th>\n",
       "      <th></th>\n",
       "      <th></th>\n",
       "      <th></th>\n",
       "    </tr>\n",
       "  </thead>\n",
       "  <tbody>\n",
       "    <tr>\n",
       "      <th>2024-03-14</th>\n",
       "      <td>552.65</td>\n",
       "      <td>584.8</td>\n",
       "      <td>551.50</td>\n",
       "      <td>582.40</td>\n",
       "      <td>119571.0</td>\n",
       "    </tr>\n",
       "    <tr>\n",
       "      <th>2024-03-13</th>\n",
       "      <td>587.15</td>\n",
       "      <td>590.5</td>\n",
       "      <td>551.05</td>\n",
       "      <td>559.80</td>\n",
       "      <td>148915.0</td>\n",
       "    </tr>\n",
       "    <tr>\n",
       "      <th>2024-03-12</th>\n",
       "      <td>603.45</td>\n",
       "      <td>605.1</td>\n",
       "      <td>584.00</td>\n",
       "      <td>586.65</td>\n",
       "      <td>111313.0</td>\n",
       "    </tr>\n",
       "    <tr>\n",
       "      <th>2024-03-11</th>\n",
       "      <td>603.75</td>\n",
       "      <td>612.5</td>\n",
       "      <td>600.05</td>\n",
       "      <td>602.20</td>\n",
       "      <td>149751.0</td>\n",
       "    </tr>\n",
       "    <tr>\n",
       "      <th>2024-03-07</th>\n",
       "      <td>598.00</td>\n",
       "      <td>606.5</td>\n",
       "      <td>596.80</td>\n",
       "      <td>603.30</td>\n",
       "      <td>56532.0</td>\n",
       "    </tr>\n",
       "  </tbody>\n",
       "</table>\n",
       "</div>"
      ],
      "text/plain": [
       "              open   high     low   close    volume\n",
       "date                                               \n",
       "2024-03-14  552.65  584.8  551.50  582.40  119571.0\n",
       "2024-03-13  587.15  590.5  551.05  559.80  148915.0\n",
       "2024-03-12  603.45  605.1  584.00  586.65  111313.0\n",
       "2024-03-11  603.75  612.5  600.05  602.20  149751.0\n",
       "2024-03-07  598.00  606.5  596.80  603.30   56532.0"
      ]
     },
     "execution_count": 52,
     "metadata": {},
     "output_type": "execute_result"
    }
   ],
   "source": [
    "# Remove numbering from `df_ambuja` column names\n",
    "df_ambuja.columns = [c[3:] for c in df_ambuja.columns]\n",
    "\n",
    "print(df_ambuja.info())\n",
    "df_ambuja.head()"
   ]
  },
  {
   "cell_type": "code",
   "execution_count": 53,
   "id": "48262971-9cd9-40d2-9074-7398b70d10d7",
   "metadata": {},
   "outputs": [],
   "source": [
    "def get_daily(ticker = \"AMBUJACEM.BSE\", output_size = \"compact\", data_type = \"json\"):\n",
    "\n",
    "    \"\"\"Get daily time series of an equity from AlphaVantage API.\n",
    "\n",
    "    Parameters\n",
    "    ----------\n",
    "    ticker : str\n",
    "        The ticker symbol of the equity.\n",
    "    output_size : str, optional\n",
    "        Number of observations to retrieve. \"compact\" returns the\n",
    "        latest 100 observations. \"full\" returns all observations for\n",
    "        equity. By default \"full\".\n",
    "\n",
    "    Returns\n",
    "    -------\n",
    "    pd.DataFrame\n",
    "        Columns are 'open', 'high', 'low', 'close', and 'volume'.\n",
    "        All are numeric.\n",
    "    \"\"\"\n",
    "    # Create URL (8.1.5)\n",
    "\n",
    "    url = (\n",
    "        \"https://learn-api.wqu.edu/1/data-services/alpha-vantage/query?\"\n",
    "        \"function=TIME_SERIES_DAILY&\"\n",
    "        f\"symbol={ticker}&\"\n",
    "        f\"outputsize={output_size}&\"\n",
    "        f\"datatype={data_type}&\"\n",
    "        f\"apikey={settings.alpha_api_key}\"\n",
    "    )\n",
    "\n",
    "    # Send request to API (8.1.6)\n",
    "\n",
    "    response = requests.get(url=url)\n",
    "\n",
    "    # Extract JSON data from response (8.1.10)\n",
    "    response_data = response.json()\n",
    "    \n",
    "    if \"Time Series (Daily)\" not in response_data.keys():\n",
    "        raise Exception(\n",
    "            f\"Invalide API call. check that '{ticker}' is correct.\"\n",
    "        )\n",
    "    \n",
    "    \n",
    "    # Read data into DataFrame (8.1.12 & 8.1.13)\n",
    "    stock_data = response_data[\"Time Series (Daily)\"]\n",
    "    df = pd.DataFrame().from_dict(stock_data , orient=\"index\" , dtype=float)\n",
    "    \n",
    "    # Convert index to `DatetimeIndex` named \"date\" (8.1.14)\n",
    "    df.index = pd.to_datetime(df.index)\n",
    "\n",
    "    # Name index \"date\"\n",
    "    df.index.name = \"date\"\n",
    "\n",
    "    # Remove numbering from columns (8.1.15)\n",
    "    df.columns = [c[3:] for c in df.columns]\n",
    "\n",
    "    # Return DataFrame\n",
    "    return df"
   ]
  },
  {
   "cell_type": "code",
   "execution_count": 54,
   "id": "f6d255b7-ae59-4a12-aff0-feea179398da",
   "metadata": {},
   "outputs": [
    {
     "name": "stdout",
     "output_type": "stream",
     "text": [
      "<class 'pandas.core.frame.DataFrame'>\n",
      "DatetimeIndex: 100 entries, 2024-03-14 to 2023-10-20\n",
      "Data columns (total 5 columns):\n",
      " #   Column  Non-Null Count  Dtype  \n",
      "---  ------  --------------  -----  \n",
      " 0   open    100 non-null    float64\n",
      " 1   high    100 non-null    float64\n",
      " 2   low     100 non-null    float64\n",
      " 3   close   100 non-null    float64\n",
      " 4   volume  100 non-null    float64\n",
      "dtypes: float64(5)\n",
      "memory usage: 4.7 KB\n",
      "None\n"
     ]
    },
    {
     "data": {
      "text/html": [
       "<div>\n",
       "<style scoped>\n",
       "    .dataframe tbody tr th:only-of-type {\n",
       "        vertical-align: middle;\n",
       "    }\n",
       "\n",
       "    .dataframe tbody tr th {\n",
       "        vertical-align: top;\n",
       "    }\n",
       "\n",
       "    .dataframe thead th {\n",
       "        text-align: right;\n",
       "    }\n",
       "</style>\n",
       "<table border=\"1\" class=\"dataframe\">\n",
       "  <thead>\n",
       "    <tr style=\"text-align: right;\">\n",
       "      <th></th>\n",
       "      <th>open</th>\n",
       "      <th>high</th>\n",
       "      <th>low</th>\n",
       "      <th>close</th>\n",
       "      <th>volume</th>\n",
       "    </tr>\n",
       "    <tr>\n",
       "      <th>date</th>\n",
       "      <th></th>\n",
       "      <th></th>\n",
       "      <th></th>\n",
       "      <th></th>\n",
       "      <th></th>\n",
       "    </tr>\n",
       "  </thead>\n",
       "  <tbody>\n",
       "    <tr>\n",
       "      <th>2024-03-14</th>\n",
       "      <td>552.65</td>\n",
       "      <td>584.8</td>\n",
       "      <td>551.50</td>\n",
       "      <td>582.40</td>\n",
       "      <td>119571.0</td>\n",
       "    </tr>\n",
       "    <tr>\n",
       "      <th>2024-03-13</th>\n",
       "      <td>587.15</td>\n",
       "      <td>590.5</td>\n",
       "      <td>551.05</td>\n",
       "      <td>559.80</td>\n",
       "      <td>148915.0</td>\n",
       "    </tr>\n",
       "    <tr>\n",
       "      <th>2024-03-12</th>\n",
       "      <td>603.45</td>\n",
       "      <td>605.1</td>\n",
       "      <td>584.00</td>\n",
       "      <td>586.65</td>\n",
       "      <td>111313.0</td>\n",
       "    </tr>\n",
       "    <tr>\n",
       "      <th>2024-03-11</th>\n",
       "      <td>603.75</td>\n",
       "      <td>612.5</td>\n",
       "      <td>600.05</td>\n",
       "      <td>602.20</td>\n",
       "      <td>149751.0</td>\n",
       "    </tr>\n",
       "    <tr>\n",
       "      <th>2024-03-07</th>\n",
       "      <td>598.00</td>\n",
       "      <td>606.5</td>\n",
       "      <td>596.80</td>\n",
       "      <td>603.30</td>\n",
       "      <td>56532.0</td>\n",
       "    </tr>\n",
       "  </tbody>\n",
       "</table>\n",
       "</div>"
      ],
      "text/plain": [
       "              open   high     low   close    volume\n",
       "date                                               \n",
       "2024-03-14  552.65  584.8  551.50  582.40  119571.0\n",
       "2024-03-13  587.15  590.5  551.05  559.80  148915.0\n",
       "2024-03-12  603.45  605.1  584.00  586.65  111313.0\n",
       "2024-03-11  603.75  612.5  600.05  602.20  149751.0\n",
       "2024-03-07  598.00  606.5  596.80  603.30   56532.0"
      ]
     },
     "execution_count": 54,
     "metadata": {},
     "output_type": "execute_result"
    }
   ],
   "source": [
    "# Test your function\n",
    "df_ambuja = get_daily(ticker=\"AMBUJACEM.BSE\")\n",
    "\n",
    "print(df_ambuja.info())\n",
    "df_ambuja.head()"
   ]
  },
  {
   "cell_type": "code",
   "execution_count": 55,
   "id": "2ad73f4c-94bb-426d-9812-0e4a6dbded35",
   "metadata": {},
   "outputs": [
    {
     "data": {
      "text/html": [
       "<div>\n",
       "<style scoped>\n",
       "    .dataframe tbody tr th:only-of-type {\n",
       "        vertical-align: middle;\n",
       "    }\n",
       "\n",
       "    .dataframe tbody tr th {\n",
       "        vertical-align: top;\n",
       "    }\n",
       "\n",
       "    .dataframe thead th {\n",
       "        text-align: right;\n",
       "    }\n",
       "</style>\n",
       "<table border=\"1\" class=\"dataframe\">\n",
       "  <thead>\n",
       "    <tr style=\"text-align: right;\">\n",
       "      <th></th>\n",
       "      <th>open</th>\n",
       "      <th>high</th>\n",
       "      <th>low</th>\n",
       "      <th>close</th>\n",
       "      <th>volume</th>\n",
       "    </tr>\n",
       "    <tr>\n",
       "      <th>date</th>\n",
       "      <th></th>\n",
       "      <th></th>\n",
       "      <th></th>\n",
       "      <th></th>\n",
       "      <th></th>\n",
       "    </tr>\n",
       "  </thead>\n",
       "  <tbody>\n",
       "    <tr>\n",
       "      <th>2023-10-27</th>\n",
       "      <td>416.40</td>\n",
       "      <td>423.95</td>\n",
       "      <td>415.50</td>\n",
       "      <td>417.50</td>\n",
       "      <td>45753.0</td>\n",
       "    </tr>\n",
       "    <tr>\n",
       "      <th>2023-10-26</th>\n",
       "      <td>415.00</td>\n",
       "      <td>422.00</td>\n",
       "      <td>408.00</td>\n",
       "      <td>415.70</td>\n",
       "      <td>47088.0</td>\n",
       "    </tr>\n",
       "    <tr>\n",
       "      <th>2023-10-25</th>\n",
       "      <td>418.75</td>\n",
       "      <td>422.70</td>\n",
       "      <td>414.00</td>\n",
       "      <td>417.70</td>\n",
       "      <td>50400.0</td>\n",
       "    </tr>\n",
       "    <tr>\n",
       "      <th>2023-10-23</th>\n",
       "      <td>430.90</td>\n",
       "      <td>432.55</td>\n",
       "      <td>411.25</td>\n",
       "      <td>415.75</td>\n",
       "      <td>135899.0</td>\n",
       "    </tr>\n",
       "    <tr>\n",
       "      <th>2023-10-20</th>\n",
       "      <td>437.30</td>\n",
       "      <td>439.30</td>\n",
       "      <td>428.40</td>\n",
       "      <td>430.85</td>\n",
       "      <td>39520.0</td>\n",
       "    </tr>\n",
       "  </tbody>\n",
       "</table>\n",
       "</div>"
      ],
      "text/plain": [
       "              open    high     low   close    volume\n",
       "date                                                \n",
       "2023-10-27  416.40  423.95  415.50  417.50   45753.0\n",
       "2023-10-26  415.00  422.00  408.00  415.70   47088.0\n",
       "2023-10-25  418.75  422.70  414.00  417.70   50400.0\n",
       "2023-10-23  430.90  432.55  411.25  415.75  135899.0\n",
       "2023-10-20  437.30  439.30  428.40  430.85   39520.0"
      ]
     },
     "execution_count": 55,
     "metadata": {},
     "output_type": "execute_result"
    }
   ],
   "source": [
    "df_ambuja.tail()"
   ]
  },
  {
   "cell_type": "code",
   "execution_count": 56,
   "id": "4afe5d5a-4b09-45c2-8d4f-54f46bff1b3d",
   "metadata": {},
   "outputs": [
    {
     "data": {
      "text/plain": [
       "'Connected: @/home/jumaa/PROJECT/Python/080volatility-forecasting-in-india/stock.sqlite'"
      ]
     },
     "execution_count": 56,
     "metadata": {},
     "output_type": "execute_result"
    }
   ],
   "source": [
    "%sql sqlite:////home/jumaa/PROJECT/Python/080volatility-forecasting-in-india/stock.sqlite"
   ]
  },
  {
   "cell_type": "code",
   "execution_count": 57,
   "id": "6fec4cb5-cd62-41e8-b8fe-30cda4a27499",
   "metadata": {},
   "outputs": [
    {
     "name": "stdout",
     "output_type": "stream",
     "text": [
      " * sqlite:////home/jumaa/PROJECT/Python/080volatility-forecasting-in-india/stock.sqlite\n",
      "(sqlite3.OperationalError) table stock_data already exists\n",
      "[SQL: CREATE TABLE stock_data (id integer primary key AUTOINCREMENT ,date date not null, open float, high float, low float, close float, volume float)]\n",
      "(Background on this error at: https://sqlalche.me/e/14/e3q8)\n"
     ]
    }
   ],
   "source": [
    "%%sql\n",
    "CREATE TABLE stock_data (id integer primary key AUTOINCREMENT ,date date not null, open float, high float, low float, close float, volume float)\n",
    "\n"
   ]
  },
  {
   "cell_type": "code",
   "execution_count": 58,
   "id": "5d2a23cb-f749-4066-92d1-ce12c717b19d",
   "metadata": {},
   "outputs": [
    {
     "name": "stdout",
     "output_type": "stream",
     "text": [
      " * sqlite:////home/jumaa/PROJECT/Python/080volatility-forecasting-in-india/stock.sqlite\n",
      "Done.\n"
     ]
    },
    {
     "data": {
      "text/html": [
       "<table>\n",
       "    <thead>\n",
       "        <tr>\n",
       "            <th>date</th>\n",
       "            <th>open</th>\n",
       "            <th>high</th>\n",
       "            <th>low</th>\n",
       "            <th>close</th>\n",
       "            <th>volume</th>\n",
       "        </tr>\n",
       "    </thead>\n",
       "    <tbody>\n",
       "        <tr>\n",
       "            <td>2024-03-14 00:00:00</td>\n",
       "            <td>552.65</td>\n",
       "            <td>584.8</td>\n",
       "            <td>551.5</td>\n",
       "            <td>582.4</td>\n",
       "            <td>119571.0</td>\n",
       "        </tr>\n",
       "        <tr>\n",
       "            <td>2024-03-13 00:00:00</td>\n",
       "            <td>587.15</td>\n",
       "            <td>590.5</td>\n",
       "            <td>551.05</td>\n",
       "            <td>559.8</td>\n",
       "            <td>148915.0</td>\n",
       "        </tr>\n",
       "        <tr>\n",
       "            <td>2024-03-12 00:00:00</td>\n",
       "            <td>603.45</td>\n",
       "            <td>605.1</td>\n",
       "            <td>584.0</td>\n",
       "            <td>586.65</td>\n",
       "            <td>111313.0</td>\n",
       "        </tr>\n",
       "        <tr>\n",
       "            <td>2024-03-11 00:00:00</td>\n",
       "            <td>603.75</td>\n",
       "            <td>612.5</td>\n",
       "            <td>600.05</td>\n",
       "            <td>602.2</td>\n",
       "            <td>149751.0</td>\n",
       "        </tr>\n",
       "        <tr>\n",
       "            <td>2024-03-07 00:00:00</td>\n",
       "            <td>598.0</td>\n",
       "            <td>606.5</td>\n",
       "            <td>596.8</td>\n",
       "            <td>603.3</td>\n",
       "            <td>56532.0</td>\n",
       "        </tr>\n",
       "    </tbody>\n",
       "</table>"
      ],
      "text/plain": [
       "[('2024-03-14 00:00:00', 552.65, 584.8, 551.5, 582.4, 119571.0),\n",
       " ('2024-03-13 00:00:00', 587.15, 590.5, 551.05, 559.8, 148915.0),\n",
       " ('2024-03-12 00:00:00', 603.45, 605.1, 584.0, 586.65, 111313.0),\n",
       " ('2024-03-11 00:00:00', 603.75, 612.5, 600.05, 602.2, 149751.0),\n",
       " ('2024-03-07 00:00:00', 598.0, 606.5, 596.8, 603.3, 56532.0)]"
      ]
     },
     "execution_count": 58,
     "metadata": {},
     "output_type": "execute_result"
    }
   ],
   "source": [
    "%%sql\n",
    "SELECT *\n",
    "FROM stock_data\n",
    "LIMIT 5"
   ]
  },
  {
   "cell_type": "code",
   "execution_count": 59,
   "id": "207c34ef-6cd6-4ec8-9f74-81a9bd6d0b1e",
   "metadata": {},
   "outputs": [
    {
     "name": "stdout",
     "output_type": "stream",
     "text": [
      "connection type: <class 'sqlite3.Connection'>\n"
     ]
    }
   ],
   "source": [
    "db = \"stock.sqlite\"\n",
    "connection = sqlite3.connect(database=db , check_same_thread=False)\n",
    "\n",
    "print(\"connection type:\", type(connection))"
   ]
  },
  {
   "cell_type": "code",
   "execution_count": 60,
   "id": "fb9cf527-a416-4f5c-85d2-21e0b8d98e78",
   "metadata": {},
   "outputs": [
    {
     "name": "stdout",
     "output_type": "stream",
     "text": [
      "transaction_successful True\n",
      "records_inserted 100\n"
     ]
    }
   ],
   "source": [
    "\n",
    "n_inserted = df_ambuja.to_sql(name=\"stock_data\" , con=connection , if_exists=\"replace\")\n",
    "print(\"transaction_successful\",True)\n",
    "print(\"records_inserted\", n_inserted)\n"
   ]
  },
  {
   "cell_type": "code",
   "execution_count": 61,
   "id": "976ecc2d-bba1-4396-8ca1-8336ab512582",
   "metadata": {},
   "outputs": [
    {
     "name": "stdout",
     "output_type": "stream",
     "text": [
      " * sqlite:////home/jumaa/PROJECT/Python/080volatility-forecasting-in-india/stock.sqlite\n",
      "Done.\n"
     ]
    },
    {
     "data": {
      "text/html": [
       "<table>\n",
       "    <thead>\n",
       "        <tr>\n",
       "            <th>date</th>\n",
       "            <th>open</th>\n",
       "            <th>high</th>\n",
       "            <th>low</th>\n",
       "            <th>close</th>\n",
       "            <th>volume</th>\n",
       "        </tr>\n",
       "    </thead>\n",
       "    <tbody>\n",
       "        <tr>\n",
       "            <td>2024-03-14 00:00:00</td>\n",
       "            <td>552.65</td>\n",
       "            <td>584.8</td>\n",
       "            <td>551.5</td>\n",
       "            <td>582.4</td>\n",
       "            <td>119571.0</td>\n",
       "        </tr>\n",
       "        <tr>\n",
       "            <td>2024-03-13 00:00:00</td>\n",
       "            <td>587.15</td>\n",
       "            <td>590.5</td>\n",
       "            <td>551.05</td>\n",
       "            <td>559.8</td>\n",
       "            <td>148915.0</td>\n",
       "        </tr>\n",
       "        <tr>\n",
       "            <td>2024-03-12 00:00:00</td>\n",
       "            <td>603.45</td>\n",
       "            <td>605.1</td>\n",
       "            <td>584.0</td>\n",
       "            <td>586.65</td>\n",
       "            <td>111313.0</td>\n",
       "        </tr>\n",
       "        <tr>\n",
       "            <td>2024-03-11 00:00:00</td>\n",
       "            <td>603.75</td>\n",
       "            <td>612.5</td>\n",
       "            <td>600.05</td>\n",
       "            <td>602.2</td>\n",
       "            <td>149751.0</td>\n",
       "        </tr>\n",
       "        <tr>\n",
       "            <td>2024-03-07 00:00:00</td>\n",
       "            <td>598.0</td>\n",
       "            <td>606.5</td>\n",
       "            <td>596.8</td>\n",
       "            <td>603.3</td>\n",
       "            <td>56532.0</td>\n",
       "        </tr>\n",
       "    </tbody>\n",
       "</table>"
      ],
      "text/plain": [
       "[('2024-03-14 00:00:00', 552.65, 584.8, 551.5, 582.4, 119571.0),\n",
       " ('2024-03-13 00:00:00', 587.15, 590.5, 551.05, 559.8, 148915.0),\n",
       " ('2024-03-12 00:00:00', 603.45, 605.1, 584.0, 586.65, 111313.0),\n",
       " ('2024-03-11 00:00:00', 603.75, 612.5, 600.05, 602.2, 149751.0),\n",
       " ('2024-03-07 00:00:00', 598.0, 606.5, 596.8, 603.3, 56532.0)]"
      ]
     },
     "execution_count": 61,
     "metadata": {},
     "output_type": "execute_result"
    }
   ],
   "source": [
    "%%sql\n",
    "SELECT *\n",
    "FROM stock_data\n",
    "LIMIT 5"
   ]
  },
  {
   "cell_type": "markdown",
   "id": "c06333cb-da8b-4b77-bae3-2dc1f6da7445",
   "metadata": {},
   "source": [
    "# Building Our Data Module"
   ]
  },
  {
   "cell_type": "markdown",
   "id": "d512e0ef-abbe-4ef7-8f26-e87d21448c35",
   "metadata": {},
   "source": [
    "## AlphaVantage API Class"
   ]
  },
  {
   "cell_type": "code",
   "execution_count": 62,
   "id": "c81f1f45-7cef-48e5-9005-e5b2517a393d",
   "metadata": {},
   "outputs": [
    {
     "name": "stdout",
     "output_type": "stream",
     "text": [
      "av type: <class 'data.AlphaVantageAPI'>\n"
     ]
    }
   ],
   "source": [
    "# Import `AlphaVantageAPI`\n",
    "from data import AlphaVantageAPI\n",
    "\n",
    "# Create instance of `AlphaVantageAPI` class\n",
    "av = AlphaVantageAPI()\n",
    "\n",
    "print(\"av type:\", type(av))"
   ]
  },
  {
   "cell_type": "code",
   "execution_count": 63,
   "id": "d4e0d4c5-00ce-4f17-b6f2-b99bfbef2375",
   "metadata": {},
   "outputs": [
    {
     "name": "stdout",
     "output_type": "stream",
     "text": [
      "df_ibm type: <class 'pandas.core.frame.DataFrame'>\n",
      "df_ibm shape: (6131, 5)\n"
     ]
    },
    {
     "data": {
      "text/html": [
       "<div>\n",
       "<style scoped>\n",
       "    .dataframe tbody tr th:only-of-type {\n",
       "        vertical-align: middle;\n",
       "    }\n",
       "\n",
       "    .dataframe tbody tr th {\n",
       "        vertical-align: top;\n",
       "    }\n",
       "\n",
       "    .dataframe thead th {\n",
       "        text-align: right;\n",
       "    }\n",
       "</style>\n",
       "<table border=\"1\" class=\"dataframe\">\n",
       "  <thead>\n",
       "    <tr style=\"text-align: right;\">\n",
       "      <th></th>\n",
       "      <th>open</th>\n",
       "      <th>high</th>\n",
       "      <th>low</th>\n",
       "      <th>close</th>\n",
       "      <th>volume</th>\n",
       "    </tr>\n",
       "    <tr>\n",
       "      <th>date</th>\n",
       "      <th></th>\n",
       "      <th></th>\n",
       "      <th></th>\n",
       "      <th></th>\n",
       "      <th></th>\n",
       "    </tr>\n",
       "  </thead>\n",
       "  <tbody>\n",
       "    <tr>\n",
       "      <th>2024-03-14</th>\n",
       "      <td>196.95</td>\n",
       "      <td>197.748</td>\n",
       "      <td>192.12</td>\n",
       "      <td>193.43</td>\n",
       "      <td>4102201.0</td>\n",
       "    </tr>\n",
       "    <tr>\n",
       "      <th>2024-03-13</th>\n",
       "      <td>197.55</td>\n",
       "      <td>198.100</td>\n",
       "      <td>195.32</td>\n",
       "      <td>196.70</td>\n",
       "      <td>3960737.0</td>\n",
       "    </tr>\n",
       "    <tr>\n",
       "      <th>2024-03-12</th>\n",
       "      <td>192.46</td>\n",
       "      <td>199.180</td>\n",
       "      <td>192.15</td>\n",
       "      <td>197.78</td>\n",
       "      <td>5862512.0</td>\n",
       "    </tr>\n",
       "    <tr>\n",
       "      <th>2024-03-11</th>\n",
       "      <td>195.09</td>\n",
       "      <td>195.380</td>\n",
       "      <td>190.88</td>\n",
       "      <td>191.73</td>\n",
       "      <td>4712688.0</td>\n",
       "    </tr>\n",
       "    <tr>\n",
       "      <th>2024-03-08</th>\n",
       "      <td>196.06</td>\n",
       "      <td>197.770</td>\n",
       "      <td>194.38</td>\n",
       "      <td>195.95</td>\n",
       "      <td>3943113.0</td>\n",
       "    </tr>\n",
       "  </tbody>\n",
       "</table>\n",
       "</div>"
      ],
      "text/plain": [
       "              open     high     low   close     volume\n",
       "date                                                  \n",
       "2024-03-14  196.95  197.748  192.12  193.43  4102201.0\n",
       "2024-03-13  197.55  198.100  195.32  196.70  3960737.0\n",
       "2024-03-12  192.46  199.180  192.15  197.78  5862512.0\n",
       "2024-03-11  195.09  195.380  190.88  191.73  4712688.0\n",
       "2024-03-08  196.06  197.770  194.38  195.95  3943113.0"
      ]
     },
     "execution_count": 63,
     "metadata": {},
     "output_type": "execute_result"
    }
   ],
   "source": [
    "# Define Suzlon ticker symbol\n",
    "ticker = \"IBM\"\n",
    "\n",
    "# Use your `av` object to get daily data\n",
    "df_ibm = av.get_daily(ticker=ticker)\n",
    "\n",
    "print(\"df_ibm type:\", type(df_ibm))\n",
    "print(\"df_ibm shape:\", df_ibm.shape)\n",
    "df_ibm.head()"
   ]
  },
  {
   "cell_type": "markdown",
   "id": "7e61872f-9a5a-4b90-be66-65d9e49ab924",
   "metadata": {},
   "source": [
    "Okay! The next thing we need to do is test our new method to make sure it works the way we want it to. Usually, these sorts of tests are written *before* writing the method, but, in this first case, we'll do it the other way around in order to get a better sense of how assert statements work."
   ]
  },
  {
   "cell_type": "code",
   "execution_count": 64,
   "id": "0067d9f1-5573-4a29-b5eb-03249bb27562",
   "metadata": {},
   "outputs": [],
   "source": [
    "# Does `get_daily` return a DataFrame?\n",
    "assert isinstance(df_ibm , pd.DataFrame), \"Output must be DataFrame\"\n",
    "\n",
    "# Does DataFrame have 5 columns?\n",
    "assert (len(df_ibm.columns) == 5), \"DataFrame must be contains 5 columns only\"\n",
    "\n",
    "# Does DataFrame have a DatetimeIndex?\n",
    "assert isinstance(df_ibm.index, pd.DatetimeIndex) , \"DataFrame index must be datetime\"\n",
    "\n",
    "\n",
    "# Is the index name \"date\"?\n",
    "assert (df_ibm.index.name == \"date\") , \"DataFrame index must be datetime\"\n",
    "\n",
    "# Does Datcolumnshave correct column names?\n",
    "assert all(df_ibm.columns == ['open', 'high', 'low', 'close', 'volume']), \"DataFrame names are incorrect\"\n",
    "\n",
    "# Are columns correct data type?\n",
    "assert all(df_ibm.dtypes == float) , \"DataFrame columns must be float type\""
   ]
  },
  {
   "cell_type": "code",
   "execution_count": 65,
   "id": "bf7ee535-991d-49ea-86ea-deacdbea367a",
   "metadata": {},
   "outputs": [],
   "source": [
    "# Import class definition\n",
    "from data import SQLRepository\n",
    "\n",
    "# Create instance of class\n",
    "repo = SQLRepository(connection=connection)\n",
    "\n",
    "# Does `repo` have a \"connection\" attribute?\n",
    "assert hasattr(repo , \"connection\")\n",
    "\n",
    "# Is the \"connection\" attribute a SQLite `Connection`?\n",
    "assert isinstance(repo.connection , sqlite3.Connection)"
   ]
  },
  {
   "cell_type": "code",
   "execution_count": 66,
   "id": "9f4eb599-c30c-4439-8cfa-4d3583b9b9dc",
   "metadata": {},
   "outputs": [],
   "source": [
    "response = repo.insert_table(table_name=ticker, records=df_ibm, if_exists=\"replace\")\n",
    "\n",
    "# Does your method return a dictionary?\n",
    "assert isinstance(response, dict)\n",
    "\n",
    "# Are the keys of that dictionary correct?\n",
    "assert sorted(list(response.keys())) == [\"records_inserted\", \"transaction_successful\"]"
   ]
  },
  {
   "cell_type": "code",
   "execution_count": 67,
   "id": "421f2cf8-da04-4fb0-8868-b83cf24bc0ac",
   "metadata": {},
   "outputs": [
    {
     "name": "stdout",
     "output_type": "stream",
     "text": [
      "df_ibm_test type: <class 'pandas.core.frame.DataFrame'>\n",
      "\n",
      "<class 'pandas.core.frame.DataFrame'>\n",
      "DatetimeIndex: 6131 entries, 2024-03-14 to 1999-11-01\n",
      "Data columns (total 5 columns):\n",
      " #   Column  Non-Null Count  Dtype  \n",
      "---  ------  --------------  -----  \n",
      " 0   open    6131 non-null   float64\n",
      " 1   high    6131 non-null   float64\n",
      " 2   low     6131 non-null   float64\n",
      " 3   close   6131 non-null   float64\n",
      " 4   volume  6131 non-null   float64\n",
      "dtypes: float64(5)\n",
      "memory usage: 287.4 KB\n",
      "None\n"
     ]
    },
    {
     "data": {
      "text/html": [
       "<div>\n",
       "<style scoped>\n",
       "    .dataframe tbody tr th:only-of-type {\n",
       "        vertical-align: middle;\n",
       "    }\n",
       "\n",
       "    .dataframe tbody tr th {\n",
       "        vertical-align: top;\n",
       "    }\n",
       "\n",
       "    .dataframe thead th {\n",
       "        text-align: right;\n",
       "    }\n",
       "</style>\n",
       "<table border=\"1\" class=\"dataframe\">\n",
       "  <thead>\n",
       "    <tr style=\"text-align: right;\">\n",
       "      <th></th>\n",
       "      <th>open</th>\n",
       "      <th>high</th>\n",
       "      <th>low</th>\n",
       "      <th>close</th>\n",
       "      <th>volume</th>\n",
       "    </tr>\n",
       "    <tr>\n",
       "      <th>date</th>\n",
       "      <th></th>\n",
       "      <th></th>\n",
       "      <th></th>\n",
       "      <th></th>\n",
       "      <th></th>\n",
       "    </tr>\n",
       "  </thead>\n",
       "  <tbody>\n",
       "    <tr>\n",
       "      <th>2024-03-14</th>\n",
       "      <td>196.95</td>\n",
       "      <td>197.748</td>\n",
       "      <td>192.12</td>\n",
       "      <td>193.43</td>\n",
       "      <td>4102201.0</td>\n",
       "    </tr>\n",
       "    <tr>\n",
       "      <th>2024-03-13</th>\n",
       "      <td>197.55</td>\n",
       "      <td>198.100</td>\n",
       "      <td>195.32</td>\n",
       "      <td>196.70</td>\n",
       "      <td>3960737.0</td>\n",
       "    </tr>\n",
       "    <tr>\n",
       "      <th>2024-03-12</th>\n",
       "      <td>192.46</td>\n",
       "      <td>199.180</td>\n",
       "      <td>192.15</td>\n",
       "      <td>197.78</td>\n",
       "      <td>5862512.0</td>\n",
       "    </tr>\n",
       "    <tr>\n",
       "      <th>2024-03-11</th>\n",
       "      <td>195.09</td>\n",
       "      <td>195.380</td>\n",
       "      <td>190.88</td>\n",
       "      <td>191.73</td>\n",
       "      <td>4712688.0</td>\n",
       "    </tr>\n",
       "    <tr>\n",
       "      <th>2024-03-08</th>\n",
       "      <td>196.06</td>\n",
       "      <td>197.770</td>\n",
       "      <td>194.38</td>\n",
       "      <td>195.95</td>\n",
       "      <td>3943113.0</td>\n",
       "    </tr>\n",
       "  </tbody>\n",
       "</table>\n",
       "</div>"
      ],
      "text/plain": [
       "              open     high     low   close     volume\n",
       "date                                                  \n",
       "2024-03-14  196.95  197.748  192.12  193.43  4102201.0\n",
       "2024-03-13  197.55  198.100  195.32  196.70  3960737.0\n",
       "2024-03-12  192.46  199.180  192.15  197.78  5862512.0\n",
       "2024-03-11  195.09  195.380  190.88  191.73  4712688.0\n",
       "2024-03-08  196.06  197.770  194.38  195.95  3943113.0"
      ]
     },
     "execution_count": 67,
     "metadata": {},
     "output_type": "execute_result"
    }
   ],
   "source": [
    "sql = \"SELECT * FROM 'IBM' \"\n",
    "df_ibm_test = pd.read_sql(sql=sql , con=connection , parse_dates=[\"date\"] , index_col=\"date\")\n",
    "\n",
    "print(\"df_ibm_test type:\", type(df_ibm_test))\n",
    "print()\n",
    "print(df_ibm_test.info())\n",
    "df_ibm_test.head()"
   ]
  },
  {
   "cell_type": "code",
   "execution_count": 68,
   "id": "db69ffe8-b672-4822-b75d-18915c12b96f",
   "metadata": {},
   "outputs": [
    {
     "name": "stdout",
     "output_type": "stream",
     "text": [
      "df_suzlon shape: (2500, 5)\n",
      "\n",
      "<class 'pandas.core.frame.DataFrame'>\n",
      "DatetimeIndex: 2500 entries, 2024-03-14 to 2014-04-09\n",
      "Data columns (total 5 columns):\n",
      " #   Column  Non-Null Count  Dtype  \n",
      "---  ------  --------------  -----  \n",
      " 0   open    2500 non-null   float64\n",
      " 1   high    2500 non-null   float64\n",
      " 2   low     2500 non-null   float64\n",
      " 3   close   2500 non-null   float64\n",
      " 4   volume  2500 non-null   float64\n",
      "dtypes: float64(5)\n",
      "memory usage: 117.2 KB\n",
      "None\n"
     ]
    },
    {
     "data": {
      "text/html": [
       "<div>\n",
       "<style scoped>\n",
       "    .dataframe tbody tr th:only-of-type {\n",
       "        vertical-align: middle;\n",
       "    }\n",
       "\n",
       "    .dataframe tbody tr th {\n",
       "        vertical-align: top;\n",
       "    }\n",
       "\n",
       "    .dataframe thead th {\n",
       "        text-align: right;\n",
       "    }\n",
       "</style>\n",
       "<table border=\"1\" class=\"dataframe\">\n",
       "  <thead>\n",
       "    <tr style=\"text-align: right;\">\n",
       "      <th></th>\n",
       "      <th>open</th>\n",
       "      <th>high</th>\n",
       "      <th>low</th>\n",
       "      <th>close</th>\n",
       "      <th>volume</th>\n",
       "    </tr>\n",
       "    <tr>\n",
       "      <th>date</th>\n",
       "      <th></th>\n",
       "      <th></th>\n",
       "      <th></th>\n",
       "      <th></th>\n",
       "      <th></th>\n",
       "    </tr>\n",
       "  </thead>\n",
       "  <tbody>\n",
       "    <tr>\n",
       "      <th>2024-03-14</th>\n",
       "      <td>196.95</td>\n",
       "      <td>197.748</td>\n",
       "      <td>192.12</td>\n",
       "      <td>193.43</td>\n",
       "      <td>4102201.0</td>\n",
       "    </tr>\n",
       "    <tr>\n",
       "      <th>2024-03-13</th>\n",
       "      <td>197.55</td>\n",
       "      <td>198.100</td>\n",
       "      <td>195.32</td>\n",
       "      <td>196.70</td>\n",
       "      <td>3960737.0</td>\n",
       "    </tr>\n",
       "    <tr>\n",
       "      <th>2024-03-12</th>\n",
       "      <td>192.46</td>\n",
       "      <td>199.180</td>\n",
       "      <td>192.15</td>\n",
       "      <td>197.78</td>\n",
       "      <td>5862512.0</td>\n",
       "    </tr>\n",
       "    <tr>\n",
       "      <th>2024-03-11</th>\n",
       "      <td>195.09</td>\n",
       "      <td>195.380</td>\n",
       "      <td>190.88</td>\n",
       "      <td>191.73</td>\n",
       "      <td>4712688.0</td>\n",
       "    </tr>\n",
       "    <tr>\n",
       "      <th>2024-03-08</th>\n",
       "      <td>196.06</td>\n",
       "      <td>197.770</td>\n",
       "      <td>194.38</td>\n",
       "      <td>195.95</td>\n",
       "      <td>3943113.0</td>\n",
       "    </tr>\n",
       "  </tbody>\n",
       "</table>\n",
       "</div>"
      ],
      "text/plain": [
       "              open     high     low   close     volume\n",
       "date                                                  \n",
       "2024-03-14  196.95  197.748  192.12  193.43  4102201.0\n",
       "2024-03-13  197.55  198.100  195.32  196.70  3960737.0\n",
       "2024-03-12  192.46  199.180  192.15  197.78  5862512.0\n",
       "2024-03-11  195.09  195.380  190.88  191.73  4712688.0\n",
       "2024-03-08  196.06  197.770  194.38  195.95  3943113.0"
      ]
     },
     "execution_count": 68,
     "metadata": {},
     "output_type": "execute_result"
    }
   ],
   "source": [
    "df_ibm = repo.read_table(table_name=ticker, limit=2500)\n",
    "# Is `df_ibm` a DataFrame?\n",
    "assert isinstance(df_ibm , pd.DataFrame)\n",
    "\n",
    "# Does it have a `DatetimeIndex`?\n",
    "assert isinstance(df_ibm.index , pd.DatetimeIndex)\n",
    "\n",
    "# Is the index named \"date\"?\n",
    "assert df_ibm.index.name == \"date\"\n",
    "\n",
    "# Does it have 2,500 rows and 5 columns?\n",
    "assert df_ibm.shape == (2500,5)\n",
    "\n",
    "# Are the column names correct?\n",
    "assert df_ibm.columns.to_list() == ['open', 'high', 'low', 'close', 'volume']\n",
    "\n",
    "# Are the column data types correct?\n",
    "assert all(df_ibm.dtypes == float)\n",
    "\n",
    "# Print `df_suzlon` info\n",
    "print(\"df_suzlon shape:\", df_ibm.shape)\n",
    "print()\n",
    "print(df_ibm.info())\n",
    "df_ibm.head()"
   ]
  },
  {
   "cell_type": "markdown",
   "id": "6cc6a4a2-f057-441e-9453-58950b64f6d1",
   "metadata": {},
   "source": [
    "# Comparing Stock Returns"
   ]
  },
  {
   "cell_type": "code",
   "execution_count": 69,
   "id": "225a55fe-7087-4e28-8bb0-8c31a2713ab5",
   "metadata": {},
   "outputs": [
    {
     "data": {
      "text/plain": [
       "{'transaction_successful': True, 'records_inserted': 4732}"
      ]
     },
     "execution_count": 69,
     "metadata": {},
     "output_type": "execute_result"
    }
   ],
   "source": [
    "ticker = \"AMBUJACEM.BSE\"\n",
    "\n",
    "# Get Ambuja data using `av`\n",
    "ambuja_records = av.get_daily(ticker=ticker)\n",
    "\n",
    "# Insert `ambuja_records` database using `repo`\n",
    "response = repo.insert_table(table_name=ticker , records=ambuja_records , if_exists=\"replace\")\n",
    "\n",
    "response"
   ]
  },
  {
   "cell_type": "markdown",
   "id": "205e667f-4697-4a14-b4ee-ae6730a61d14",
   "metadata": {},
   "source": [
    "Use the instances of the `AlphaVantageAPI` and `SQLRepository` classes you created in this lesson (`av` and `repo`, respectively) to get the stock data for Ambuja Cement and read it into the database."
   ]
  },
  {
   "cell_type": "code",
   "execution_count": 70,
   "id": "c0ffe372-d737-4a72-ad34-f513f858d6fb",
   "metadata": {},
   "outputs": [
    {
     "name": "stdout",
     "output_type": "stream",
     "text": [
      "df_ambuja type: <class 'pandas.core.frame.DataFrame'>\n",
      "df_ambuja shape: (2500, 5)\n"
     ]
    },
    {
     "data": {
      "text/html": [
       "<div>\n",
       "<style scoped>\n",
       "    .dataframe tbody tr th:only-of-type {\n",
       "        vertical-align: middle;\n",
       "    }\n",
       "\n",
       "    .dataframe tbody tr th {\n",
       "        vertical-align: top;\n",
       "    }\n",
       "\n",
       "    .dataframe thead th {\n",
       "        text-align: right;\n",
       "    }\n",
       "</style>\n",
       "<table border=\"1\" class=\"dataframe\">\n",
       "  <thead>\n",
       "    <tr style=\"text-align: right;\">\n",
       "      <th></th>\n",
       "      <th>open</th>\n",
       "      <th>high</th>\n",
       "      <th>low</th>\n",
       "      <th>close</th>\n",
       "      <th>volume</th>\n",
       "    </tr>\n",
       "    <tr>\n",
       "      <th>date</th>\n",
       "      <th></th>\n",
       "      <th></th>\n",
       "      <th></th>\n",
       "      <th></th>\n",
       "      <th></th>\n",
       "    </tr>\n",
       "  </thead>\n",
       "  <tbody>\n",
       "    <tr>\n",
       "      <th>2024-03-14</th>\n",
       "      <td>552.65</td>\n",
       "      <td>584.8</td>\n",
       "      <td>551.50</td>\n",
       "      <td>582.40</td>\n",
       "      <td>119571.0</td>\n",
       "    </tr>\n",
       "    <tr>\n",
       "      <th>2024-03-13</th>\n",
       "      <td>587.15</td>\n",
       "      <td>590.5</td>\n",
       "      <td>551.05</td>\n",
       "      <td>559.80</td>\n",
       "      <td>148915.0</td>\n",
       "    </tr>\n",
       "    <tr>\n",
       "      <th>2024-03-12</th>\n",
       "      <td>603.45</td>\n",
       "      <td>605.1</td>\n",
       "      <td>584.00</td>\n",
       "      <td>586.65</td>\n",
       "      <td>111313.0</td>\n",
       "    </tr>\n",
       "    <tr>\n",
       "      <th>2024-03-11</th>\n",
       "      <td>603.75</td>\n",
       "      <td>612.5</td>\n",
       "      <td>600.05</td>\n",
       "      <td>602.20</td>\n",
       "      <td>149751.0</td>\n",
       "    </tr>\n",
       "    <tr>\n",
       "      <th>2024-03-07</th>\n",
       "      <td>598.00</td>\n",
       "      <td>606.5</td>\n",
       "      <td>596.80</td>\n",
       "      <td>603.30</td>\n",
       "      <td>56532.0</td>\n",
       "    </tr>\n",
       "  </tbody>\n",
       "</table>\n",
       "</div>"
      ],
      "text/plain": [
       "              open   high     low   close    volume\n",
       "date                                               \n",
       "2024-03-14  552.65  584.8  551.50  582.40  119571.0\n",
       "2024-03-13  587.15  590.5  551.05  559.80  148915.0\n",
       "2024-03-12  603.45  605.1  584.00  586.65  111313.0\n",
       "2024-03-11  603.75  612.5  600.05  602.20  149751.0\n",
       "2024-03-07  598.00  606.5  596.80  603.30   56532.0"
      ]
     },
     "execution_count": 70,
     "metadata": {},
     "output_type": "execute_result"
    }
   ],
   "source": [
    "ticker = \"AMBUJACEM.BSE\"\n",
    "df_ambuja = repo.read_table(table_name=ticker , limit=2500)\n",
    "\n",
    "print(\"df_ambuja type:\", type(df_ambuja))\n",
    "print(\"df_ambuja shape:\", df_ambuja.shape)\n",
    "df_ambuja.head()"
   ]
  },
  {
   "cell_type": "markdown",
   "id": "2adc9da4-a4bf-49c8-b359-5f7688bf3520",
   "metadata": {},
   "source": [
    "Using the `read_table` method you've added to your `SQLRepository`, extract the most recent 2,500 rows of data for Ambuja Cement from the database and assign the result to `df_ambuja`."
   ]
  },
  {
   "cell_type": "code",
   "execution_count": 71,
   "id": "dc473a16-75f6-45ba-9e43-1999949cbc6e",
   "metadata": {},
   "outputs": [
    {
     "data": {
      "image/png": "[encoded data removed]",
      "text/plain": [
       "<Figure size 1500x600 with 1 Axes>"
      ]
     },
     "metadata": {},
     "output_type": "display_data"
    }
   ],
   "source": [
    "fig, ax = plt.subplots(figsize=(15, 6))\n",
    "# Plot `df_suzlon` and `df_ambuja`\n",
    "df_ambuja[\"close\"].plot(ax=ax , label=\"AMBUJA\")\n",
    "df_ibm[\"close\"].plot(ax=ax , label=\"IBM\")\n",
    "\n",
    "\n",
    "# Label axes\n",
    "plt.xlabel(\"Date\")\n",
    "plt.ylabel(\"Closeing Price\")\n",
    "\n",
    "\n",
    "# Add legend\n",
    "plt.legend();"
   ]
  }
 ],
 "metadata": {
  "kernelspec": {
   "display_name": "Python 3 (ipykernel)",
   "language": "python",
   "name": "python3"
  },
  "language_info": {
   "codemirror_mode": {
    "name": "ipython",
    "version": 3
   },
   "file_extension": ".py",
   "mimetype": "text/x-python",
   "name": "python",
   "nbconvert_exporter": "python",
   "pygments_lexer": "ipython3",
   "version": "3.10.9"
  }
 },
 "nbformat": 4,
 "nbformat_minor": 5
}
